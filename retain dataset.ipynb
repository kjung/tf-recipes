{
 "cells": [
  {
   "cell_type": "code",
   "execution_count": 1,
   "metadata": {
    "collapsed": true
   },
   "outputs": [],
   "source": [
    "import cPickle as pickle\n",
    "import numpy as np"
   ]
  },
  {
   "cell_type": "code",
   "execution_count": 5,
   "metadata": {
    "collapsed": false
   },
   "outputs": [
    {
     "name": "stdout",
     "output_type": "stream",
     "text": [
      "291421\n",
      "97140\n",
      "97141\n"
     ]
    }
   ],
   "source": [
    "X_train = pickle.load(open(\"/data1/stride6/data/doctorai_X_train.pkl\"))\n",
    "Y_train = pickle.load(open(\"/data1/stride6/data/doctorai_Y_train.pkl\"))\n",
    "\n",
    "X_val = pickle.load(open(\"/data1/stride6/data/doctorai_X_val.pkl\"))\n",
    "Y_val = pickle.load(open(\"/data1/stride6/data/doctorai_Y_val.pkl\"))\n",
    "\n",
    "X_test = pickle.load(open(\"/data1/stride6/data/doctorai_X_test.pkl\"))\n",
    "Y_test = pickle.load(open(\"/data1/stride6/data/doctorai_Y_test.pkl\"))\n",
    "\n",
    "print(len(X_train))\n",
    "print(len(X_val))\n",
    "print(len(X_test))"
   ]
  },
  {
   "cell_type": "code",
   "execution_count": 10,
   "metadata": {
    "collapsed": false
   },
   "outputs": [
    {
     "name": "stdout",
     "output_type": "stream",
     "text": [
      "73761\n",
      "24550\n",
      "24591\n"
     ]
    }
   ],
   "source": [
    "# Okay, the inputs are pretty much the same; for outputs, we'll just use the presence/absence \n",
    "# of ccs codes at the end of each sequence. \n",
    "new_Y_train = []\n",
    "for y_i in Y_train : \n",
    "    if y_i[-1][0] == 254 : \n",
    "        new_Y_train.append(1)\n",
    "    else : \n",
    "        new_Y_train.append(0)\n",
    "print(np.sum(np.array(new_Y_train)))\n",
    "\n",
    "new_Y_val = []\n",
    "for y_i in Y_val : \n",
    "    if y_i[-1][0] == 254 : \n",
    "        new_Y_val.append(1)\n",
    "    else : \n",
    "        new_Y_val.append(0)\n",
    "print(np.sum(np.array(new_Y_val)))\n",
    "\n",
    "new_Y_test = []\n",
    "for y_i in Y_test : \n",
    "    if y_i[-1][0] == 254 : \n",
    "        new_Y_test.append(1)\n",
    "    else : \n",
    "        new_Y_test.append(0)\n",
    "print(np.sum(np.array(new_Y_test)))"
   ]
  },
  {
   "cell_type": "code",
   "execution_count": 11,
   "metadata": {
    "collapsed": false
   },
   "outputs": [],
   "source": [
    "pickle.dump(new_Y_train, open(\"/data1/stride6/data/retrain_Y_train.pkl\", \"wb\"))\n",
    "pickle.dump(new_Y_val, open(\"/data1/stride6/data/retrain_Y_val.pkl\", \"wb\"))\n",
    "pickle.dump(new_Y_test, open(\"/data1/stride6/data/retrain_Y_test.pkl\", \"wb\"))\n"
   ]
  },
  {
   "cell_type": "code",
   "execution_count": 12,
   "metadata": {
    "collapsed": false
   },
   "outputs": [
    {
     "name": "stdout",
     "output_type": "stream",
     "text": [
      "[ 0.  0.  0.  0.  0.  0.  0.  0.  0.  0.]\n"
     ]
    }
   ],
   "source": [
    "foo = np.zeros([10], dtype=np.float32)\n",
    "for i, foo_i in enumerate(foo) : \n",
    "    foo_i = i\n",
    "print(foo)"
   ]
  },
  {
   "cell_type": "code",
   "execution_count": 13,
   "metadata": {
    "collapsed": false
   },
   "outputs": [
    {
     "name": "stdout",
     "output_type": "stream",
     "text": [
      "10\n"
     ]
    }
   ],
   "source": [
    "print(len(foo))"
   ]
  },
  {
   "cell_type": "code",
   "execution_count": 16,
   "metadata": {
    "collapsed": true
   },
   "outputs": [],
   "source": [
    "from util import * \n",
    "iterator = SequenceLabelIterator(X_train, new_Y_train, 3, 5, 15851)\n",
    "x, y, seqlen, mask = iterator.next()"
   ]
  },
  {
   "cell_type": "code",
   "execution_count": 18,
   "metadata": {
    "collapsed": false
   },
   "outputs": [
    {
     "name": "stdout",
     "output_type": "stream",
     "text": [
      "x: \n",
      " [[[ 0.  0.  0. ...,  0.  0.  0.]\n",
      "  [ 0.  0.  0. ...,  0.  0.  0.]\n",
      "  [ 0.  0.  0. ...,  0.  0.  0.]\n",
      "  [ 0.  0.  0. ...,  0.  0.  0.]\n",
      "  [ 0.  0.  0. ...,  0.  0.  0.]]\n",
      "\n",
      " [[ 0.  0.  0. ...,  0.  0.  0.]\n",
      "  [ 0.  0.  0. ...,  0.  0.  0.]\n",
      "  [ 0.  0.  0. ...,  0.  0.  0.]\n",
      "  [ 0.  0.  0. ...,  0.  0.  0.]\n",
      "  [ 0.  0.  0. ...,  0.  0.  0.]]\n",
      "\n",
      " [[ 0.  0.  0. ...,  0.  0.  0.]\n",
      "  [ 0.  0.  0. ...,  0.  0.  0.]\n",
      "  [ 0.  0.  0. ...,  0.  0.  0.]\n",
      "  [ 0.  0.  0. ...,  0.  0.  0.]\n",
      "  [ 0.  0.  0. ...,  0.  0.  0.]]]\n",
      "y: \n",
      " [ 1.  0.  0.]\n",
      "seqlen: \n",
      " [1 5 5]\n",
      "mask: \n",
      " [[ 1.  0.  0.  0.  0.]\n",
      " [ 1.  1.  1.  1.  1.]\n",
      " [ 1.  1.  1.  1.  1.]]\n"
     ]
    }
   ],
   "source": [
    "from __future__ import print_function\n",
    "print(\"x: \\n\", x)\n",
    "print(\"y: \\n\", y)\n",
    "print(\"seqlen: \\n\", seqlen)\n",
    "print(\"mask: \\n\", mask)"
   ]
  },
  {
   "cell_type": "code",
   "execution_count": 19,
   "metadata": {
    "collapsed": false
   },
   "outputs": [
    {
     "name": "stdout",
     "output_type": "stream",
     "text": [
      "[174818  44657  35158  90426 190072  35897   5144 107052  31947 205175]\n"
     ]
    }
   ],
   "source": [
    "print(iterator.indices[:10])"
   ]
  },
  {
   "cell_type": "code",
   "execution_count": 20,
   "metadata": {
    "collapsed": false
   },
   "outputs": [
    {
     "name": "stdout",
     "output_type": "stream",
     "text": [
      "1\n"
     ]
    }
   ],
   "source": [
    "print(new_Y_train[174818])"
   ]
  },
  {
   "cell_type": "code",
   "execution_count": 21,
   "metadata": {
    "collapsed": false
   },
   "outputs": [
    {
     "name": "stdout",
     "output_type": "stream",
     "text": [
      "0\n"
     ]
    }
   ],
   "source": [
    "print(new_Y_train[44657])"
   ]
  },
  {
   "cell_type": "code",
   "execution_count": 22,
   "metadata": {
    "collapsed": false
   },
   "outputs": [
    {
     "name": "stdout",
     "output_type": "stream",
     "text": [
      "0\n"
     ]
    }
   ],
   "source": [
    "print(new_Y_train[35158])"
   ]
  },
  {
   "cell_type": "code",
   "execution_count": 23,
   "metadata": {
    "collapsed": false
   },
   "outputs": [
    {
     "name": "stdout",
     "output_type": "stream",
     "text": [
      "1\n"
     ]
    }
   ],
   "source": [
    "print(len(X_train[174818]))"
   ]
  },
  {
   "cell_type": "code",
   "execution_count": 24,
   "metadata": {
    "collapsed": false
   },
   "outputs": [
    {
     "name": "stdout",
     "output_type": "stream",
     "text": [
      "6\n"
     ]
    }
   ],
   "source": [
    "print(len(X_train[44657]))"
   ]
  },
  {
   "cell_type": "code",
   "execution_count": 25,
   "metadata": {
    "collapsed": false
   },
   "outputs": [
    {
     "name": "stdout",
     "output_type": "stream",
     "text": [
      "53\n"
     ]
    }
   ],
   "source": [
    "print(len(X_train[35158]))"
   ]
  },
  {
   "cell_type": "code",
   "execution_count": null,
   "metadata": {
    "collapsed": true
   },
   "outputs": [],
   "source": []
  }
 ],
 "metadata": {
  "kernelspec": {
   "display_name": "Python [conda env:tensorflow-8]",
   "language": "python",
   "name": "conda-env-tensorflow-8-py"
  },
  "language_info": {
   "codemirror_mode": {
    "name": "ipython",
    "version": 2
   },
   "file_extension": ".py",
   "mimetype": "text/x-python",
   "name": "python",
   "nbconvert_exporter": "python",
   "pygments_lexer": "ipython2",
   "version": "2.7.13"
  }
 },
 "nbformat": 4,
 "nbformat_minor": 2
}
